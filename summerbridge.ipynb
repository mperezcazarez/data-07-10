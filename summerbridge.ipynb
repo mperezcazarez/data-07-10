{
 "cells": [
  {
   "cell_type": "code",
   "execution_count": null,
   "id": "f5eabace-b2c6-4077-9545-86b3fe3c4024",
   "metadata": {},
   "outputs": [],
   "source": [
    "3+7"
   ]
  },
  {
   "cell_type": "code",
   "execution_count": null,
   "id": "c61fbb74-d630-4c39-b230-6ad0427f023c",
   "metadata": {},
   "outputs": [],
   "source": [
    "print(\"hello world\")"
   ]
  },
  {
   "cell_type": "code",
   "execution_count": null,
   "id": "7988df26-2c7a-43ef-8f60-728558d57cf2",
   "metadata": {},
   "outputs": [],
   "source": [
    "name = \"Milka\""
   ]
  },
  {
   "cell_type": "code",
   "execution_count": null,
   "id": "7994f0bf-457a-4159-a6f3-eaa713e23fb3",
   "metadata": {},
   "outputs": [],
   "source": [
    "age = 42"
   ]
  },
  {
   "cell_type": "code",
   "execution_count": null,
   "id": "024f815a-3939-49ee-8606-fa4cd13f9188",
   "metadata": {},
   "outputs": [],
   "source": [
    "print(age)"
   ]
  },
  {
   "cell_type": "code",
   "execution_count": null,
   "id": "f508ad94-5375-40f4-ae1a-e2d677deca6a",
   "metadata": {},
   "outputs": [],
   "source": [
    "# This is a comment and it will not run"
   ]
  },
  {
   "cell_type": "code",
   "execution_count": null,
   "id": "bc8dfd94-0f93-4633-bee0-24b9c3a6f65b",
   "metadata": {},
   "outputs": [],
   "source": [
    "name # You can also echo values without using print in this notebook"
   ]
  },
  {
   "cell_type": "markdown",
   "id": "792ff1d2-81d7-4aa6-97a6-a7ba09aa8dc9",
   "metadata": {},
   "source": [
    "# Variables and Values"
   ]
  },
  {
   "cell_type": "code",
   "execution_count": null,
   "id": "53b2a077-c19d-4a42-a000-dcd5093711c6",
   "metadata": {},
   "outputs": [],
   "source": [
    "# Variables can be used in calculations\n",
    "print(age)\n",
    "age = age + 3\n",
    "print(age)"
   ]
  },
  {
   "cell_type": "code",
   "execution_count": null,
   "id": "2d678486-e280-4212-8a49-31461d47ce1b",
   "metadata": {},
   "outputs": [],
   "source": [
    "# Order of operation matters!\n",
    "first = 1\n",
    "second = 1 * 5\n",
    "first = 2\n",
    "\n",
    "print(first)\n",
    "print(second)"
   ]
  },
  {
   "cell_type": "code",
   "execution_count": null,
   "id": "4e63ceaf-1477-4744-835a-daef93925634",
   "metadata": {},
   "outputs": [],
   "source": [
    "# Values have types. Types affect what you can do with them.\n",
    "print(5-3)\n",
    "print(\"hello\" - \"h\")\n"
   ]
  },
  {
   "cell_type": "code",
   "execution_count": null,
   "id": "9ccf23c7-0f41-457d-8113-e7aa3e2051ee",
   "metadata": {},
   "outputs": [],
   "source": [
    "print(len(\"Hello\"))\n",
    "#print(len(6))"
   ]
  },
  {
   "cell_type": "markdown",
   "id": "1b5de40e-42df-41b6-ace6-ac052f4835f1",
   "metadata": {},
   "source": [
    "## Challenge\n",
    "Explain what each operator does\n",
    "\n",
    "print(5 // 3)    # round division\n",
    "print(5 / 3)     # exact division\n",
    "print(5 % 3)     # remainder"
   ]
  },
  {
   "cell_type": "code",
   "execution_count": null,
   "id": "eebdb165-f5dc-44ad-8a8c-9808b60164a3",
   "metadata": {},
   "outputs": [],
   "source": [
    "print(5 // 3)\n",
    "print(5 / 3)\n",
    "print(5 % 3)"
   ]
  },
  {
   "cell_type": "markdown",
   "id": "a4867423-d063-46b2-b972-27f2fbb15733",
   "metadata": {},
   "source": [
    "## Getting Help"
   ]
  },
  {
   "cell_type": "code",
   "execution_count": null,
   "id": "3f19381d-657e-4176-b374-a454035ee6a2",
   "metadata": {},
   "outputs": [],
   "source": [
    "# All functions return a new value\n",
    "rounded_pi = round(3.14159,2)\n",
    "print(rounded_pi)\n"
   ]
  },
  {
   "cell_type": "markdown",
   "id": "c31e8319-e2a7-40c1-ab3a-47e259406c6a",
   "metadata": {},
   "source": [
    "## Challenge\n",
    "\n",
    "In what order tdo the operations happen?\n",
    "\n",
    "radiance = 1.0 \n",
    "\n",
    "radiance = max(2.1,2.0 + min(radiance, 1.1*radiance - 0.5))"
   ]
  },
  {
   "cell_type": "code",
   "execution_count": null,
   "id": "6451a5ea-55b9-4544-9247-c89a911eab5d",
   "metadata": {},
   "outputs": [],
   "source": [
    "radiance = 1.0\n",
    "\n",
    "radiance = max(2.1,2.0 + min(radiance, 1.1*radiance - 0.5))"
   ]
  },
  {
   "cell_type": "code",
   "execution_count": null,
   "id": "d001c00e-dd1a-437d-ba7b-527b21590dd9",
   "metadata": {},
   "outputs": [],
   "source": [
    "radiance"
   ]
  },
  {
   "cell_type": "code",
   "execution_count": null,
   "id": "e2fc5764-9b06-44bd-ae61-38ab334bc76f",
   "metadata": {},
   "outputs": [],
   "source": [
    "# Break down these operations\n",
    "radiance = 1.0\n",
    "min_arg_2 = 1.1 * radiance - 0.5\n",
    "print(\"Min arg 2:\", min_arg_2)\n",
    "min_result = min(radiance, min_arg_2)\n",
    "print(\"Min result:\", min_result)\n",
    "\n",
    "radiance = max(2.1, 2.0 + min_result)\n",
    "print(radiance)"
   ]
  },
  {
   "cell_type": "markdown",
   "id": "14d3618c-7250-4bdb-831b-05288bab1010",
   "metadata": {},
   "source": [
    "## A Brief Interlude with Git"
   ]
  },
  {
   "cell_type": "markdown",
   "id": "10e44418-cb61-481b-83fc-b4473339d1a5",
   "metadata": {},
   "source": [
    "## Libraries\n"
   ]
  },
  {
   "cell_type": "code",
   "execution_count": null,
   "id": "95fc786e-3ecb-487b-92d4-c4bbc44b03bc",
   "metadata": {},
   "outputs": [],
   "source": [
    "import math\n"
   ]
  },
  {
   "cell_type": "code",
   "execution_count": null,
   "id": "a516698a-43ec-4d43-9b9c-62847218ff05",
   "metadata": {},
   "outputs": [],
   "source": [
    "math.pi\n"
   ]
  },
  {
   "cell_type": "code",
   "execution_count": null,
   "id": "c20c9fbd-1d5c-4016-be21-759cc077cf38",
   "metadata": {},
   "outputs": [],
   "source": [
    "print(math.pi)\n",
    "print(math.cos(math.pi))"
   ]
  },
  {
   "cell_type": "code",
   "execution_count": null,
   "id": "cdbe41ab-a976-4290-a596-2b65b5b43961",
   "metadata": {},
   "outputs": [],
   "source": [
    "# get complete help with help()\n",
    "# help(math)\n",
    "\n",
    "# Get a list of options with dir()\n",
    "print(dir(math))"
   ]
  },
  {
   "cell_type": "markdown",
   "id": "9b46bf1f-114f-4022-aab8-6ea258c957d5",
   "metadata": {},
   "source": [
    "## List"
   ]
  },
  {
   "cell_type": "code",
   "execution_count": null,
   "id": "0a10f3a8-5531-486b-92eb-740097bcad16",
   "metadata": {},
   "outputs": [],
   "source": [
    "# A list is an ordered collection of stuff \n",
    "fruits = [\"apple\", \"banana\", \"cherry\", \"date\", \"elderberry\", \"fig\"]"
   ]
  },
  {
   "cell_type": "code",
   "execution_count": null,
   "id": "3d0d7d26-8ced-4621-8ca4-1e88c14a57e7",
   "metadata": {},
   "outputs": [],
   "source": [
    "fruits"
   ]
  },
  {
   "cell_type": "code",
   "execution_count": null,
   "id": "c2bf9a26-c359-42bf-9d41-332756531b14",
   "metadata": {},
   "outputs": [],
   "source": [
    "len(fruits)"
   ]
  },
  {
   "cell_type": "code",
   "execution_count": null,
   "id": "7415345b-a912-48cc-a99a-0bf0071bca5c",
   "metadata": {},
   "outputs": [],
   "source": [
    "fruits[0]"
   ]
  },
  {
   "cell_type": "code",
   "execution_count": null,
   "id": "8b0e8440-4f5d-429d-abe1-2fb123a4ee26",
   "metadata": {},
   "outputs": [],
   "source": [
    "print(fruits[4])"
   ]
  },
  {
   "cell_type": "code",
   "execution_count": null,
   "id": "2648e1ec-6da9-4966-ae2b-1f6293efc4f9",
   "metadata": {},
   "outputs": [],
   "source": [
    "fruits[2:5]"
   ]
  },
  {
   "cell_type": "code",
   "execution_count": null,
   "id": "6e81cffb-9176-4025-a66f-55432566f702",
   "metadata": {},
   "outputs": [],
   "source": [
    "fruits[0:len(fruits): 2]"
   ]
  },
  {
   "cell_type": "code",
   "execution_count": null,
   "id": "dd13341e-2e48-4434-ad53-df8112c185f2",
   "metadata": {},
   "outputs": [],
   "source": [
    "fruits[0:len(fruits): 3]"
   ]
  },
  {
   "cell_type": "code",
   "execution_count": null,
   "id": "14825638-f8e7-4178-9517-8863202a6f24",
   "metadata": {},
   "outputs": [],
   "source": [
    "fruits[0:6: 2]"
   ]
  },
  {
   "cell_type": "code",
   "execution_count": null,
   "id": "f90dffe9-83fc-4c30-8817-677a8843a92c",
   "metadata": {},
   "outputs": [],
   "source": [
    "fruits[0:8]"
   ]
  },
  {
   "cell_type": "markdown",
   "id": "04d4a305-6f87-4a74-b621-eb7e6821884f",
   "metadata": {},
   "source": [
    "## Challenge\n",
    "\n",
    "what are the following statements doing?\n",
    "\n",
    "fruits[-1]\n",
    "\n",
    "fruits[20]\n",
    "\n",
    "fruits[-3]"
   ]
  },
  {
   "cell_type": "code",
   "execution_count": null,
   "id": "76522fb9-6013-4788-ab5e-d622ea46b815",
   "metadata": {},
   "outputs": [],
   "source": [
    "fruits[-1]\n",
    "# last item on list"
   ]
  },
  {
   "cell_type": "code",
   "execution_count": null,
   "id": "8119d68b-c692-4d32-9998-ec3a8c957d22",
   "metadata": {},
   "outputs": [],
   "source": [
    "fruits[20]\n",
    "\n",
    "# no "
   ]
  },
  {
   "cell_type": "code",
   "execution_count": null,
   "id": "8a8f3798-dc37-40bf-9f50-c3d475a4d5bf",
   "metadata": {},
   "outputs": [],
   "source": [
    "\n",
    "fruits[-3]"
   ]
  },
  {
   "cell_type": "code",
   "execution_count": null,
   "id": "4561079f-18d2-428c-9c10-82909713cdfe",
   "metadata": {},
   "outputs": [],
   "source": [
    "fruits[-3:]"
   ]
  },
  {
   "cell_type": "markdown",
   "id": "3ede9b63-ea16-4435-ad8c-96220d55ead1",
   "metadata": {},
   "source": [
    "## Adding stuff to lists"
   ]
  },
  {
   "cell_type": "code",
   "execution_count": null,
   "id": "49893d18-21be-448f-97d2-70c87f090c93",
   "metadata": {},
   "outputs": [],
   "source": [
    "# Update a specific item \n",
    "print(fruits)\n",
    "\n",
    "fruits[0] = \"apricot\"\n",
    "print(fruits)"
   ]
  },
  {
   "cell_type": "code",
   "execution_count": null,
   "id": "ca67f419-e7e5-41ea-9fdd-b91fc90747e1",
   "metadata": {},
   "outputs": [],
   "source": [
    "# Add items to list\n",
    "fruits.append(\"grape\")\n",
    "print(fruits)"
   ]
  },
  {
   "cell_type": "code",
   "execution_count": null,
   "id": "532a3a35-d73c-4ff9-b8d9-65cae78f10d9",
   "metadata": {},
   "outputs": [],
   "source": [
    "# Add items from a second list to the first list\n",
    "\n",
    "more_fruits = [\"honeydew\", \"imbe\", \"jackfruit\"]\n",
    "fruits.extend(more_fruits)\n",
    "print(fruits)"
   ]
  },
  {
   "cell_type": "code",
   "execution_count": null,
   "id": "42c67e60-1348-43dc-99e7-f2761a402553",
   "metadata": {},
   "outputs": [],
   "source": [
    "# Many fruntions operate on collections\n",
    "# Assessing our wide receiving corp\n",
    "receiving_yards = [450, 370, 870, 150]\n",
    "\n",
    "mean_yards = sum(receiving_yards)/len(receiving_yards)\n",
    "print(mean_yards)\n"
   ]
  },
  {
   "cell_type": "markdown",
   "id": "1b87a8f0-0575-48d7-983d-11b0f529c974",
   "metadata": {},
   "source": [
    "## For loops"
   ]
  },
  {
   "cell_type": "code",
   "execution_count": null,
   "id": "22451ab9-a57a-4c47-9c9d-f4434d06ece4",
   "metadata": {},
   "outputs": [],
   "source": [
    "for fruit in fruits:\n",
    "    print(fruit)"
   ]
  },
  {
   "cell_type": "code",
   "execution_count": null,
   "id": "3ead1d19-7882-4c4c-b5de-17d1becde0da",
   "metadata": {},
   "outputs": [],
   "source": [
    "# Code blocks can contain many statements\n",
    "primes = [2,3,5]\n",
    "\n",
    "for p in primes:\n",
    "    squared = p ** 2\n",
    "    cubed = p ** 3\n",
    "    print(p, squared, cubed)\n",
    "\n"
   ]
  },
  {
   "cell_type": "code",
   "execution_count": null,
   "id": "36e10cc6-451d-47a8-add6-0cabd79f2f8f",
   "metadata": {},
   "outputs": [],
   "source": [
    "# Create a new collection from an existing collection\n",
    "primes_squared = []\n",
    "for p in primes:\n",
    "    primes_squared.append(p ** 2)\n",
    "\n",
    "print(primes_squared)"
   ]
  },
  {
   "cell_type": "markdown",
   "id": "ef696049-c1c5-4377-aa7d-0fb7a8c0c97f",
   "metadata": {},
   "source": [
    "## Challenge\n",
    "\n",
    "Get the total length of all the items in the fruits list\n"
   ]
  },
  {
   "cell_type": "code",
   "execution_count": null,
   "id": "f22c559e-f7d2-4747-a1b0-6ea985e294d5",
   "metadata": {},
   "outputs": [],
   "source": [
    "print(fruits)\n"
   ]
  },
  {
   "cell_type": "code",
   "execution_count": null,
   "id": "d4c427a8-b2b2-422d-a88d-ce9101d0ae4e",
   "metadata": {},
   "outputs": [],
   "source": [
    "length = []\n",
    "\n",
    "for n in fruits:\n",
    "    foo = len(n)\n",
    "    length.append(foo)\n",
    "\n",
    "print(\"Total number of characters in list:\", sum(length))"
   ]
  },
  {
   "cell_type": "code",
   "execution_count": null,
   "id": "366b0b93-f3e6-4f8b-b569-6b15ec95ff4d",
   "metadata": {},
   "outputs": [],
   "source": [
    "# Generator comprehension\n",
    "\n",
    "sum(len(f) for f in fruits)"
   ]
  },
  {
   "cell_type": "code",
   "execution_count": null,
   "id": "227907ce-7340-45d2-9fb4-668f61be6413",
   "metadata": {},
   "outputs": [],
   "source": [
    "len(\"\".join(fruits))"
   ]
  }
 ],
 "metadata": {
  "kernelspec": {
   "display_name": "Python 3 (ipykernel)",
   "language": "python",
   "name": "python3"
  },
  "language_info": {
   "codemirror_mode": {
    "name": "ipython",
    "version": 3
   },
   "file_extension": ".py",
   "mimetype": "text/x-python",
   "name": "python",
   "nbconvert_exporter": "python",
   "pygments_lexer": "ipython3",
   "version": "3.12.4"
  }
 },
 "nbformat": 4,
 "nbformat_minor": 5
}
