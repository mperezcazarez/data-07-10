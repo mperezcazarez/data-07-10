{
 "cells": [
  {
   "cell_type": "code",
   "execution_count": null,
   "id": "f5eabace-b2c6-4077-9545-86b3fe3c4024",
   "metadata": {},
   "outputs": [],
   "source": [
    "3+7"
   ]
  },
  {
   "cell_type": "code",
   "execution_count": null,
   "id": "c61fbb74-d630-4c39-b230-6ad0427f023c",
   "metadata": {},
   "outputs": [],
   "source": [
    "print(\"hello world\")"
   ]
  },
  {
   "cell_type": "code",
   "execution_count": null,
   "id": "7988df26-2c7a-43ef-8f60-728558d57cf2",
   "metadata": {},
   "outputs": [],
   "source": [
    "name = \"Milka\""
   ]
  },
  {
   "cell_type": "code",
   "execution_count": null,
   "id": "7994f0bf-457a-4159-a6f3-eaa713e23fb3",
   "metadata": {},
   "outputs": [],
   "source": [
    "age = 42"
   ]
  },
  {
   "cell_type": "code",
   "execution_count": null,
   "id": "024f815a-3939-49ee-8606-fa4cd13f9188",
   "metadata": {},
   "outputs": [],
   "source": [
    "print(age)"
   ]
  },
  {
   "cell_type": "code",
   "execution_count": null,
   "id": "f508ad94-5375-40f4-ae1a-e2d677deca6a",
   "metadata": {},
   "outputs": [],
   "source": [
    "# This is a comment and it will not run"
   ]
  },
  {
   "cell_type": "code",
   "execution_count": null,
   "id": "bc8dfd94-0f93-4633-bee0-24b9c3a6f65b",
   "metadata": {},
   "outputs": [],
   "source": [
    "name # You can also echo values without using print in this notebook"
   ]
  },
  {
   "cell_type": "markdown",
   "id": "792ff1d2-81d7-4aa6-97a6-a7ba09aa8dc9",
   "metadata": {},
   "source": [
    "# Variables and Values"
   ]
  },
  {
   "cell_type": "code",
   "execution_count": null,
   "id": "53b2a077-c19d-4a42-a000-dcd5093711c6",
   "metadata": {},
   "outputs": [],
   "source": [
    "# Variables can be used in calculations\n",
    "print(age)\n",
    "age = age + 3\n",
    "print(age)"
   ]
  },
  {
   "cell_type": "code",
   "execution_count": null,
   "id": "2d678486-e280-4212-8a49-31461d47ce1b",
   "metadata": {},
   "outputs": [],
   "source": [
    "# Order of operation matters!\n",
    "first = 1\n",
    "second = 1 * 5\n",
    "first = 2\n",
    "\n",
    "print(first)\n",
    "print(second)"
   ]
  },
  {
   "cell_type": "code",
   "execution_count": null,
   "id": "4e63ceaf-1477-4744-835a-daef93925634",
   "metadata": {},
   "outputs": [],
   "source": [
    "# Values have types. Types affect what you can do with them.\n",
    "print(5-3)\n",
    "print(\"hello\" - \"h\")\n"
   ]
  },
  {
   "cell_type": "code",
   "execution_count": null,
   "id": "9ccf23c7-0f41-457d-8113-e7aa3e2051ee",
   "metadata": {},
   "outputs": [],
   "source": [
    "print(len(\"Hello\"))\n",
    "#print(len(6))"
   ]
  },
  {
   "cell_type": "markdown",
   "id": "1b5de40e-42df-41b6-ace6-ac052f4835f1",
   "metadata": {},
   "source": [
    "## Challenge\n",
    "Explain what each operator does\n",
    "\n",
    "print(5 // 3)    # round division\n",
    "print(5 / 3)     # exact division\n",
    "print(5 % 3)     # remainder"
   ]
  },
  {
   "cell_type": "code",
   "execution_count": null,
   "id": "eebdb165-f5dc-44ad-8a8c-9808b60164a3",
   "metadata": {},
   "outputs": [],
   "source": [
    "print(5 // 3)\n",
    "print(5 / 3)\n",
    "print(5 % 3)"
   ]
  },
  {
   "cell_type": "markdown",
   "id": "a4867423-d063-46b2-b972-27f2fbb15733",
   "metadata": {},
   "source": [
    "## Getting Help"
   ]
  },
  {
   "cell_type": "code",
   "execution_count": null,
   "id": "3f19381d-657e-4176-b374-a454035ee6a2",
   "metadata": {},
   "outputs": [],
   "source": [
    "# All functions return a new value\n",
    "rounded_pi = round(3.14159,2)\n",
    "print(rounded_pi)\n"
   ]
  },
  {
   "cell_type": "markdown",
   "id": "c31e8319-e2a7-40c1-ab3a-47e259406c6a",
   "metadata": {},
   "source": [
    "## Challenge\n",
    "\n",
    "In what order tdo the operations happen?\n",
    "\n",
    "radiance = 1.0 \n",
    "\n",
    "radiance = max(2.1,2.0 + min(radiance, 1.1*radiance - 0.5))"
   ]
  },
  {
   "cell_type": "code",
   "execution_count": null,
   "id": "6451a5ea-55b9-4544-9247-c89a911eab5d",
   "metadata": {},
   "outputs": [],
   "source": [
    "radiance = 1.0\n",
    "\n",
    "radiance = max(2.1,2.0 + min(radiance, 1.1*radiance - 0.5))"
   ]
  },
  {
   "cell_type": "code",
   "execution_count": null,
   "id": "d001c00e-dd1a-437d-ba7b-527b21590dd9",
   "metadata": {},
   "outputs": [],
   "source": [
    "radiance"
   ]
  },
  {
   "cell_type": "code",
   "execution_count": null,
   "id": "e2fc5764-9b06-44bd-ae61-38ab334bc76f",
   "metadata": {},
   "outputs": [],
   "source": [
    "# Break down these operations\n",
    "radiance = 1.0\n",
    "min_arg_2 = 1.1 * radiance - 0.5\n",
    "print(\"Min arg 2:\", min_arg_2)\n",
    "min_result = min(radiance, min_arg_2)\n",
    "print(\"Min result:\", min_result)\n",
    "\n",
    "radiance = max(2.1, 2.0 + min_result)\n",
    "print(radiance)"
   ]
  },
  {
   "cell_type": "markdown",
   "id": "14d3618c-7250-4bdb-831b-05288bab1010",
   "metadata": {},
   "source": [
    "## A Brief Interlude with Git"
   ]
  },
  {
   "cell_type": "markdown",
   "id": "10e44418-cb61-481b-83fc-b4473339d1a5",
   "metadata": {},
   "source": [
    "## Libraries\n"
   ]
  },
  {
   "cell_type": "code",
   "execution_count": null,
   "id": "95fc786e-3ecb-487b-92d4-c4bbc44b03bc",
   "metadata": {},
   "outputs": [],
   "source": [
    "import math\n"
   ]
  },
  {
   "cell_type": "code",
   "execution_count": null,
   "id": "a516698a-43ec-4d43-9b9c-62847218ff05",
   "metadata": {},
   "outputs": [],
   "source": [
    "math.pi\n"
   ]
  },
  {
   "cell_type": "code",
   "execution_count": null,
   "id": "c20c9fbd-1d5c-4016-be21-759cc077cf38",
   "metadata": {},
   "outputs": [],
   "source": [
    "print(math.pi)\n",
    "print(math.cos(math.pi))"
   ]
  },
  {
   "cell_type": "code",
   "execution_count": null,
   "id": "cdbe41ab-a976-4290-a596-2b65b5b43961",
   "metadata": {},
   "outputs": [],
   "source": [
    "# get complete help with help()\n",
    "# help(math)\n",
    "\n",
    "# Get a list of options with dir()\n",
    "print(dir(math))"
   ]
  },
  {
   "cell_type": "markdown",
   "id": "9b46bf1f-114f-4022-aab8-6ea258c957d5",
   "metadata": {},
   "source": [
    "## List"
   ]
  },
  {
   "cell_type": "code",
   "execution_count": null,
   "id": "0a10f3a8-5531-486b-92eb-740097bcad16",
   "metadata": {},
   "outputs": [],
   "source": [
    "# A list is an ordered collection of stuff \n",
    "fruits = [\"apple\", \"banana\", \"cherry\", \"date\", \"elderberry\", \"fig\"]"
   ]
  },
  {
   "cell_type": "code",
   "execution_count": null,
   "id": "3d0d7d26-8ced-4621-8ca4-1e88c14a57e7",
   "metadata": {},
   "outputs": [],
   "source": [
    "fruits"
   ]
  },
  {
   "cell_type": "code",
   "execution_count": null,
   "id": "c2bf9a26-c359-42bf-9d41-332756531b14",
   "metadata": {},
   "outputs": [],
   "source": [
    "len(fruits)"
   ]
  },
  {
   "cell_type": "code",
   "execution_count": null,
   "id": "7415345b-a912-48cc-a99a-0bf0071bca5c",
   "metadata": {},
   "outputs": [],
   "source": [
    "fruits[0]"
   ]
  },
  {
   "cell_type": "code",
   "execution_count": null,
   "id": "8b0e8440-4f5d-429d-abe1-2fb123a4ee26",
   "metadata": {},
   "outputs": [],
   "source": [
    "print(fruits[4])"
   ]
  },
  {
   "cell_type": "code",
   "execution_count": null,
   "id": "2648e1ec-6da9-4966-ae2b-1f6293efc4f9",
   "metadata": {},
   "outputs": [],
   "source": [
    "fruits[2:5]"
   ]
  },
  {
   "cell_type": "code",
   "execution_count": null,
   "id": "6e81cffb-9176-4025-a66f-55432566f702",
   "metadata": {},
   "outputs": [],
   "source": [
    "fruits[0:len(fruits): 2]"
   ]
  },
  {
   "cell_type": "code",
   "execution_count": null,
   "id": "dd13341e-2e48-4434-ad53-df8112c185f2",
   "metadata": {},
   "outputs": [],
   "source": [
    "fruits[0:len(fruits): 3]"
   ]
  },
  {
   "cell_type": "code",
   "execution_count": null,
   "id": "14825638-f8e7-4178-9517-8863202a6f24",
   "metadata": {},
   "outputs": [],
   "source": [
    "fruits[0:6: 2]"
   ]
  },
  {
   "cell_type": "code",
   "execution_count": null,
   "id": "f90dffe9-83fc-4c30-8817-677a8843a92c",
   "metadata": {},
   "outputs": [],
   "source": [
    "fruits[0:8]"
   ]
  },
  {
   "cell_type": "markdown",
   "id": "04d4a305-6f87-4a74-b621-eb7e6821884f",
   "metadata": {},
   "source": [
    "## Challenge\n",
    "\n",
    "what are the following statements doing?\n",
    "\n",
    "fruits[-1]\n",
    "\n",
    "fruits[20]\n",
    "\n",
    "fruits[-3]"
   ]
  },
  {
   "cell_type": "code",
   "execution_count": null,
   "id": "76522fb9-6013-4788-ab5e-d622ea46b815",
   "metadata": {},
   "outputs": [],
   "source": [
    "fruits[-1]\n",
    "# last item on list"
   ]
  },
  {
   "cell_type": "code",
   "execution_count": null,
   "id": "8119d68b-c692-4d32-9998-ec3a8c957d22",
   "metadata": {},
   "outputs": [],
   "source": [
    "fruits[20]\n",
    "\n",
    "# no "
   ]
  },
  {
   "cell_type": "code",
   "execution_count": null,
   "id": "8a8f3798-dc37-40bf-9f50-c3d475a4d5bf",
   "metadata": {},
   "outputs": [],
   "source": [
    "\n",
    "fruits[-3]"
   ]
  },
  {
   "cell_type": "code",
   "execution_count": null,
   "id": "4561079f-18d2-428c-9c10-82909713cdfe",
   "metadata": {},
   "outputs": [],
   "source": [
    "fruits[-3:]"
   ]
  },
  {
   "cell_type": "markdown",
   "id": "3ede9b63-ea16-4435-ad8c-96220d55ead1",
   "metadata": {},
   "source": [
    "## Adding stuff to lists"
   ]
  },
  {
   "cell_type": "code",
   "execution_count": null,
   "id": "49893d18-21be-448f-97d2-70c87f090c93",
   "metadata": {},
   "outputs": [],
   "source": [
    "# Update a specific item \n",
    "print(fruits)\n",
    "\n",
    "fruits[0] = \"apricot\"\n",
    "print(fruits)"
   ]
  },
  {
   "cell_type": "code",
   "execution_count": null,
   "id": "ca67f419-e7e5-41ea-9fdd-b91fc90747e1",
   "metadata": {},
   "outputs": [],
   "source": [
    "# Add items to list\n",
    "fruits.append(\"grape\")\n",
    "print(fruits)"
   ]
  },
  {
   "cell_type": "code",
   "execution_count": null,
   "id": "532a3a35-d73c-4ff9-b8d9-65cae78f10d9",
   "metadata": {},
   "outputs": [],
   "source": [
    "# Add items from a second list to the first list\n",
    "\n",
    "more_fruits = [\"honeydew\", \"imbe\", \"jackfruit\"]\n",
    "fruits.extend(more_fruits)\n",
    "print(fruits)"
   ]
  },
  {
   "cell_type": "code",
   "execution_count": null,
   "id": "42c67e60-1348-43dc-99e7-f2761a402553",
   "metadata": {},
   "outputs": [],
   "source": [
    "# Many fruntions operate on collections\n",
    "# Assessing our wide receiving corp\n",
    "receiving_yards = [450, 370, 870, 150]\n",
    "\n",
    "mean_yards = sum(receiving_yards)/len(receiving_yards)\n",
    "print(mean_yards)\n"
   ]
  },
  {
   "cell_type": "markdown",
   "id": "1b87a8f0-0575-48d7-983d-11b0f529c974",
   "metadata": {},
   "source": [
    "## For loops"
   ]
  },
  {
   "cell_type": "code",
   "execution_count": null,
   "id": "22451ab9-a57a-4c47-9c9d-f4434d06ece4",
   "metadata": {},
   "outputs": [],
   "source": [
    "for fruit in fruits:\n",
    "    print(fruit)"
   ]
  },
  {
   "cell_type": "code",
   "execution_count": null,
   "id": "3ead1d19-7882-4c4c-b5de-17d1becde0da",
   "metadata": {},
   "outputs": [],
   "source": [
    "# Code blocks can contain many statements\n",
    "primes = [2,3,5]\n",
    "\n",
    "for p in primes:\n",
    "    squared = p ** 2\n",
    "    cubed = p ** 3\n",
    "    print(p, squared, cubed)\n",
    "\n"
   ]
  },
  {
   "cell_type": "code",
   "execution_count": null,
   "id": "36e10cc6-451d-47a8-add6-0cabd79f2f8f",
   "metadata": {},
   "outputs": [],
   "source": [
    "# Create a new collection from an existing collection\n",
    "primes_squared = []\n",
    "for p in primes:\n",
    "    primes_squared.append(p ** 2)\n",
    "\n",
    "print(primes_squared)"
   ]
  },
  {
   "cell_type": "markdown",
   "id": "ef696049-c1c5-4377-aa7d-0fb7a8c0c97f",
   "metadata": {},
   "source": [
    "## Challenge\n",
    "\n",
    "Get the total length of all the items in the fruits list\n"
   ]
  },
  {
   "cell_type": "code",
   "execution_count": null,
   "id": "f22c559e-f7d2-4747-a1b0-6ea985e294d5",
   "metadata": {},
   "outputs": [],
   "source": [
    "print(fruits)\n"
   ]
  },
  {
   "cell_type": "code",
   "execution_count": null,
   "id": "d4c427a8-b2b2-422d-a88d-ce9101d0ae4e",
   "metadata": {},
   "outputs": [],
   "source": [
    "length = []\n",
    "\n",
    "for n in fruits:\n",
    "    foo = len(n)\n",
    "    length.append(foo)\n",
    "\n",
    "print(\"Total number of characters in list:\", sum(length))"
   ]
  },
  {
   "cell_type": "code",
   "execution_count": null,
   "id": "366b0b93-f3e6-4f8b-b569-6b15ec95ff4d",
   "metadata": {},
   "outputs": [],
   "source": [
    "# Generator comprehension\n",
    "\n",
    "sum(len(f) for f in fruits)"
   ]
  },
  {
   "cell_type": "code",
   "execution_count": null,
   "id": "227907ce-7340-45d2-9fb4-668f61be6413",
   "metadata": {},
   "outputs": [],
   "source": [
    "len(\"\".join(fruits))"
   ]
  },
  {
   "cell_type": "markdown",
   "id": "b353a829-bd5d-4742-87ce-b1b044994ad7",
   "metadata": {},
   "source": [
    "## Linear Algebra with NumPy - Day 2"
   ]
  },
  {
   "cell_type": "code",
   "execution_count": null,
   "id": "ffcd40f9-17d0-4d6b-bcf2-096be13011ee",
   "metadata": {},
   "outputs": [],
   "source": [
    "import numpy as np"
   ]
  },
  {
   "cell_type": "code",
   "execution_count": null,
   "id": "1af1b139-179c-4dd7-b06d-3d709fca0950",
   "metadata": {},
   "outputs": [],
   "source": [
    "# create an array of random numbers\n",
    "m_rand = np.random.rand(3,4)\n",
    "print(m_rand)"
   ]
  },
  {
   "cell_type": "code",
   "execution_count": null,
   "id": "e02048c0-f9e4-40cc-8969-6a06825666f9",
   "metadata": {},
   "outputs": [],
   "source": [
    "#index by row, column\n",
    "m_rand[0,0]"
   ]
  },
  {
   "cell_type": "code",
   "execution_count": null,
   "id": "80f47344-a9d8-4588-be34-13b625c9280f",
   "metadata": {},
   "outputs": [],
   "source": [
    "m_rand[0,1]"
   ]
  },
  {
   "cell_type": "code",
   "execution_count": null,
   "id": "1340f1c9-bedc-463f-8e32-668916bf41a1",
   "metadata": {},
   "outputs": [],
   "source": [
    "# Arrays have attributes \n",
    "\n",
    "print(m_rand.shape)\n",
    "print(m_rand.size)\n",
    "print(m_rand.ndim)"
   ]
  },
  {
   "cell_type": "code",
   "execution_count": null,
   "id": "24a3ce62-d9fc-4258-a32d-68cc213dccee",
   "metadata": {},
   "outputs": [],
   "source": [
    "# Linear Algebra with Numpy\n",
    "\n",
    "x = np.arange(9)\n",
    "y = np.arange(9)\n",
    "\n",
    "print(x,y)\n"
   ]
  },
  {
   "cell_type": "code",
   "execution_count": null,
   "id": "cfbd96e1-8b49-4a42-b01a-9b6174573939",
   "metadata": {},
   "outputs": [],
   "source": [
    "# Operations are element-wise by default\n",
    "x * y"
   ]
  },
  {
   "cell_type": "code",
   "execution_count": null,
   "id": "b18407f6-e72b-4d42-8a06-d3361f1218ee",
   "metadata": {},
   "outputs": [],
   "source": [
    "# Matrix-wise Operations\n",
    "\n",
    "x @ y  # dot product\n"
   ]
  },
  {
   "cell_type": "code",
   "execution_count": null,
   "id": "38f471ab-82cb-41a5-a4c8-a4bda6c8d713",
   "metadata": {},
   "outputs": [],
   "source": [
    "# You can reshape matrix\n",
    "\n",
    "x1 = x.reshape(3,3)\n",
    "x2 = x.reshape(9,1)\n",
    "\n",
    "print(\"original 1x9 \\n\", x)\n",
    "print(\"reshape 3x3 \\n\",x1)\n",
    "print(\"reshape 9x1 \\n\", x2)"
   ]
  },
  {
   "cell_type": "markdown",
   "id": "50af339b-3424-41b4-a07d-130b1a2e22d7",
   "metadata": {},
   "source": [
    "## Challenge\n",
    "1. Create a 3x3 array containing the numbers 0-8\n",
    "2. Multiply the array by itself(element wise)\n",
    "3. Multiply the array by its transpose\n",
    "4. Divide the array by itself"
   ]
  },
  {
   "cell_type": "code",
   "execution_count": null,
   "id": "2264169d-7276-4577-bb34-b5a4e00187b0",
   "metadata": {},
   "outputs": [],
   "source": [
    "m = np.arange(9).reshape(3,3)\n",
    "print(\"1. \\n\",m)\n",
    "\n",
    "mult_m = m * m\n",
    "print(\"2. \\n\",mult_m)\n",
    "\n",
    "mult_mt = m * m.T\n",
    "print(\"3. \\n\", mult_mt)\n",
    "\n",
    "\n",
    "div_m = m/m\n",
    "print(\"4. \\n\", div_m)"
   ]
  },
  {
   "cell_type": "markdown",
   "id": "66b90410-789b-4374-9e91-94381bf9c34d",
   "metadata": {},
   "source": [
    "## Working with data in Pandas"
   ]
  },
  {
   "cell_type": "code",
   "execution_count": null,
   "id": "3289ea63-33d1-4311-a7c6-5ecc8ab726d7",
   "metadata": {},
   "outputs": [],
   "source": [
    "import pandas as pd"
   ]
  },
  {
   "cell_type": "code",
   "execution_count": null,
   "id": "90aee0ce-02cf-4aee-bedf-f7e0a940343b",
   "metadata": {},
   "outputs": [],
   "source": [
    "data = pd.read_csv(\"gapminder_gdp_oceania.csv\")\n",
    "print(data)"
   ]
  },
  {
   "cell_type": "code",
   "execution_count": null,
   "id": "02a3d670-505b-4b69-92f5-a3fe8acd6b52",
   "metadata": {},
   "outputs": [],
   "source": [
    "data"
   ]
  },
  {
   "cell_type": "code",
   "execution_count": null,
   "id": "fef77b26-191d-4b41-84ce-be48cdad5b25",
   "metadata": {},
   "outputs": [],
   "source": [
    "# import csv anf index by country name\n",
    "\n",
    "data = pd.read_csv(\"gapminder_gdp_oceania.csv\", index_col = \"country\")"
   ]
  },
  {
   "cell_type": "code",
   "execution_count": null,
   "id": "df10a02a-f3bc-4875-8c07-184f9f46f8e8",
   "metadata": {},
   "outputs": [],
   "source": [
    "data"
   ]
  },
  {
   "cell_type": "code",
   "execution_count": null,
   "id": "784b0ef7-5c24-455a-8756-bbbfca1c3dac",
   "metadata": {},
   "outputs": [],
   "source": [
    "# Good advice\n",
    "\n",
    "import this"
   ]
  },
  {
   "cell_type": "code",
   "execution_count": null,
   "id": "064d1d39-b0e1-44e3-bb99-38972cbf3dbe",
   "metadata": {},
   "outputs": [],
   "source": [
    " # Data Frames have attributes\n",
    "print(data.index)\n",
    "print(data.columns)\n",
    "print(data.shape)"
   ]
  },
  {
   "cell_type": "code",
   "execution_count": null,
   "id": "0114a616-fb26-4e8e-9251-8ac7f0798432",
   "metadata": {},
   "outputs": [],
   "source": [
    "# Data frames can tell you about their contents\n",
    "data.info()"
   ]
  },
  {
   "cell_type": "code",
   "execution_count": null,
   "id": "07c16996-209f-4e9e-b7b4-8b45558401ab",
   "metadata": {},
   "outputs": [],
   "source": [
    "# Get description statistics\n",
    "data.describe()"
   ]
  },
  {
   "cell_type": "code",
   "execution_count": null,
   "id": "1f254af4-834b-459a-b7c8-a7e6fb8a799c",
   "metadata": {},
   "outputs": [],
   "source": [
    "# Get the first N rows\n",
    "\n",
    "data.head(1)\n"
   ]
  },
  {
   "cell_type": "code",
   "execution_count": null,
   "id": "0f01bfe0-9dd6-433c-9f42-071fffc62187",
   "metadata": {},
   "outputs": [],
   "source": [
    "data = pd.read_csv(\"gapminder_gdp_europe.csv\", index_col = \"country\")\n",
    "\n",
    "data.head(3)"
   ]
  },
  {
   "cell_type": "code",
   "execution_count": null,
   "id": "a289e0d1-939f-4676-aaf3-bbf927e301a2",
   "metadata": {},
   "outputs": [],
   "source": [
    "# Rewrite column headers to strip off leading text\n",
    "data.columns = data.columns.str.strip(\"gdpPercap_\")\n",
    "print(data.columns)"
   ]
  },
  {
   "cell_type": "code",
   "execution_count": null,
   "id": "341f996c-0f8b-4aed-8730-9f42438e1396",
   "metadata": {},
   "outputs": [],
   "source": [
    "# Get item by index column\n",
    "\n",
    "data.iloc[0,0]"
   ]
  },
  {
   "cell_type": "code",
   "execution_count": null,
   "id": "a2ab7290-9a68-4f64-b855-96e65e75c52e",
   "metadata": {},
   "outputs": [],
   "source": [
    "# get item by label \n",
    "\n",
    "data.loc[\"Albania\" , \"gdpPercap_1952\"]"
   ]
  },
  {
   "cell_type": "code",
   "execution_count": null,
   "id": "8cbc66d1-5cbb-4a1c-aa21-2626c4babd72",
   "metadata": {},
   "outputs": [],
   "source": [
    "subset = data.loc[\"Italy\": \"Poland\", \"1962\": \"1972\"]"
   ]
  },
  {
   "cell_type": "code",
   "execution_count": null,
   "id": "21eedb65-d8e9-4d49-a1ec-ed359684e579",
   "metadata": {},
   "outputs": [],
   "source": [
    "subset"
   ]
  },
  {
   "cell_type": "code",
   "execution_count": null,
   "id": "c9bce112-e8e6-4571-b6d6-ae1bde80ea3c",
   "metadata": {},
   "outputs": [],
   "source": [
    "subset.loc[\"Italy\":\"Poland\", :]"
   ]
  },
  {
   "cell_type": "code",
   "execution_count": null,
   "id": "79b4dc8a-34c7-42c7-aad2-10020a0591ce",
   "metadata": {},
   "outputs": [],
   "source": [
    "subset.describe()"
   ]
  },
  {
   "cell_type": "code",
   "execution_count": null,
   "id": "0e158ca2-5320-460c-adf0-f2e917e04ff7",
   "metadata": {},
   "outputs": [],
   "source": [
    "subset.max()"
   ]
  },
  {
   "cell_type": "markdown",
   "id": "c4b89431-215e-470a-8314-bb08c2ee2490",
   "metadata": {},
   "source": [
    "## Challenge\n",
    "1. Calculate subset.max() and assign the results to a variable. What kind of thing is it?\n",
    "2. What is the maximum value of the new thing?\n",
    "3. Can you calculate the overall max value of the subset in 1 step?\n"
   ]
  },
  {
   "cell_type": "code",
   "execution_count": null,
   "id": "2228b7a8-fac2-4b01-9b53-481b6220c98f",
   "metadata": {},
   "outputs": [],
   "source": [
    "subset_max = subset.max()\n",
    "print(subset_max)"
   ]
  },
  {
   "cell_type": "code",
   "execution_count": null,
   "id": "7d93cedf-4b1f-453c-9620-8b1ece20b69c",
   "metadata": {},
   "outputs": [],
   "source": [
    "print(type(subset))\n",
    "print(type(subset_max))"
   ]
  },
  {
   "cell_type": "code",
   "execution_count": null,
   "id": "95d1ce9f-1b5f-454f-8c47-ea29051f8af0",
   "metadata": {},
   "outputs": [],
   "source": [
    "subset_max.max()"
   ]
  },
  {
   "cell_type": "code",
   "execution_count": null,
   "id": "6c69af0f-5223-4751-a3e0-b9e5077c0047",
   "metadata": {},
   "outputs": [],
   "source": [
    "# Solution 1\n",
    "\n",
    "subset.max().max()"
   ]
  },
  {
   "cell_type": "code",
   "execution_count": null,
   "id": "bd95bb9e-c213-4903-b932-d2a45bea9726",
   "metadata": {},
   "outputs": [],
   "source": [
    "# Solution \n",
    "\n",
    "print(\"Default max\")\n",
    "print(subset.max())  # y-axis\n",
    "print(\" Max along axis 0\")\n",
    "print(subset.max(axis=0))\n",
    "print(\"Max along axis 1\")  # along the rows (x-axis)\n",
    "print(subset.max(axis = 1))"
   ]
  },
  {
   "cell_type": "code",
   "execution_count": null,
   "id": "9cbf99e6-96c3-474b-b662-6e50ee7fce6e",
   "metadata": {},
   "outputs": [],
   "source": [
    "# Get max for overall data frame\n",
    "subset.max(axis = None)"
   ]
  },
  {
   "cell_type": "code",
   "execution_count": null,
   "id": "007ce306-9881-4cf6-964c-3a6294cf1885",
   "metadata": {},
   "outputs": [],
   "source": [
    "# Get GDPs greater than 1000 \n",
    "\n"
   ]
  },
  {
   "cell_type": "code",
   "execution_count": null,
   "id": "7000a0c8-32a4-452a-bd8c-294504a3f9e2",
   "metadata": {},
   "outputs": [],
   "source": [
    "# Filter the data frame by the criteriion\n",
    "df = subset[subset>10000]\n",
    "df"
   ]
  },
  {
   "cell_type": "markdown",
   "id": "4923a1ce-3e6b-4e23-a91e-1258103733ef",
   "metadata": {},
   "source": [
    "## Working with missing data"
   ]
  },
  {
   "cell_type": "code",
   "execution_count": null,
   "id": "acb3fec8-ae84-4316-8d6c-0bcb4aa34745",
   "metadata": {},
   "outputs": [],
   "source": [
    "# Missing data is ignored by default\n",
    "\n",
    "print(\"column means\")\n",
    "print(df.mean())\n",
    "\n",
    "print(\"Row Means\")\n",
    "print(df.mean(axis = 1))"
   ]
  },
  {
   "cell_type": "code",
   "execution_count": null,
   "id": "5f60c778-d197-4d92-b5a0-d96c55678ec4",
   "metadata": {},
   "outputs": [],
   "source": [
    "# count our missing values by row\n",
    "\n",
    "df.isna().sum()\n",
    "\n",
    "# Check total missing values\n",
    "df.isna().sum().sum()"
   ]
  },
  {
   "cell_type": "code",
   "execution_count": null,
   "id": "8c8c83bf-5a89-4dea-b58b-f7ce6d03dbad",
   "metadata": {},
   "outputs": [],
   "source": [
    "# Drop missin gvalues\n",
    "df.dropna()"
   ]
  },
  {
   "cell_type": "code",
   "execution_count": null,
   "id": "220856a2-0167-42a9-8e86-9405702db8ab",
   "metadata": {},
   "outputs": [],
   "source": [
    "# Drop missin gvalues with a fixed value\n",
    "\n",
    "df_fixed = df.fillna(99)\n",
    "print(df_fixed)"
   ]
  },
  {
   "cell_type": "code",
   "execution_count": null,
   "id": "8f3b6b85-6246-4fcc-8717-073cfb3f5d12",
   "metadata": {},
   "outputs": [],
   "source": [
    "#Replace missing values with interpolated data\n",
    "\n",
    "df_interpolated = df.interpolate()\n",
    "print(df_interpolated)"
   ]
  },
  {
   "cell_type": "markdown",
   "id": "66d1e054-c2ea-4503-8699-3d6b8a2a0d2b",
   "metadata": {},
   "source": [
    "## Challenge: The perils of missing data\n",
    "1. Create an array of random numbers matching the \"data\" dataframe\n",
    "random_filter = np.random.rand(30,12) * data.max(axis = None)\n",
    "2. Create a new data frame that filters out all values lower than the corresponding random numbers\n",
    "3. Interpolate new values for the missin data in the new data frame. How accurate are they?\n"
   ]
  },
  {
   "cell_type": "code",
   "execution_count": null,
   "id": "412e0e8f-72f0-48dd-9419-c0e7d60c8dcb",
   "metadata": {},
   "outputs": [],
   "source": [
    "random_filter = np.random.rand(30,12) * data.max(axis = None)\n"
   ]
  },
  {
   "cell_type": "code",
   "execution_count": null,
   "id": "d12ca08b-bccd-4a65-8e12-e40ed6988902",
   "metadata": {},
   "outputs": [],
   "source": [
    "newdf = data[data>random_filter]\n",
    "newdf"
   ]
  },
  {
   "cell_type": "code",
   "execution_count": null,
   "id": "a63e3ce1-fec6-4ff3-b9b3-a51136e84af9",
   "metadata": {},
   "outputs": [],
   "source": [
    "#ndf1 = newdf.dropna()\n",
    "\n",
    "#ndf1_interpolated = ndf1.interpolate()\n",
    "#print(ndf1_interpolated)\n",
    "\n",
    "ndf_interpolated = newdf.interpolate()\n",
    "ndf_interpolated"
   ]
  },
  {
   "cell_type": "code",
   "execution_count": null,
   "id": "bb2c749a-d743-47b3-9f3f-1fead5322df0",
   "metadata": {},
   "outputs": [],
   "source": [
    "data.describe()"
   ]
  },
  {
   "cell_type": "code",
   "execution_count": null,
   "id": "47731fb4-1903-4dd9-b830-96120575652b",
   "metadata": {},
   "outputs": [],
   "source": [
    "ndf_interpolated.describe()"
   ]
  },
  {
   "cell_type": "markdown",
   "id": "ada6dd01-1015-42a2-9e94-069ec403826b",
   "metadata": {},
   "source": [
    "## Sizing and Grouping"
   ]
  },
  {
   "cell_type": "code",
   "execution_count": null,
   "id": "f3eb8e61-aa59-4270-b85b-08f53c6dc2b0",
   "metadata": {},
   "outputs": [],
   "source": [
    "# Z score all the GDP data points\n",
    "z = (data - data.mean(axis = None))/data.values.std(ddof=1)"
   ]
  },
  {
   "cell_type": "code",
   "execution_count": null,
   "id": "7672c130-2a65-472c-8cc5-ed6b3cde9a06",
   "metadata": {},
   "outputs": [],
   "source": [
    "data.mean(axis= None)"
   ]
  },
  {
   "cell_type": "code",
   "execution_count": null,
   "id": "98dfc796-e740-4fe6-bf2e-27532a9693e4",
   "metadata": {},
   "outputs": [],
   "source": [
    "# Get mean Z score for each country\n",
    "mean_z = z.mean(axis = 1)\n",
    "mean_z"
   ]
  },
  {
   "cell_type": "code",
   "execution_count": null,
   "id": "a7fb4c0c-3fed-4575-8b5a-47670670a52d",
   "metadata": {},
   "outputs": [],
   "source": [
    "bool_z = mean_z > 0\n",
    "bool_z"
   ]
  },
  {
   "cell_type": "code",
   "execution_count": null,
   "id": "b14cd8f9-306c-41a8-85c4-3c425eed874d",
   "metadata": {},
   "outputs": [],
   "source": [
    "#Add new columns to data frame\n",
    "data[\"mean_z\"] = mean_z\n",
    "data[\"wealthy\"] = bool_z"
   ]
  },
  {
   "cell_type": "code",
   "execution_count": null,
   "id": "21c2c1b6-7fae-4410-adb8-7766bc466aa0",
   "metadata": {},
   "outputs": [],
   "source": [
    "data.head(3)"
   ]
  },
  {
   "cell_type": "code",
   "execution_count": null,
   "id": "eb1f0f09-0646-41c8-8f30-d9a8fec3088c",
   "metadata": {},
   "outputs": [],
   "source": [
    "# Get descriptive statistics for groups \n",
    "\n",
    "data.groupby(\"wealthy\").mean()"
   ]
  },
  {
   "cell_type": "code",
   "execution_count": null,
   "id": "b69ef0e8-3314-4c0e-bc71-f09b105b1ccb",
   "metadata": {},
   "outputs": [],
   "source": [
    "# Get descriptive stats for each group\n",
    "\n",
    "data.groupby(\"wealthy\").describe()"
   ]
  },
  {
   "cell_type": "code",
   "execution_count": null,
   "id": "02e741c6-309f-4c6c-9cc1-6502c94fc21b",
   "metadata": {},
   "outputs": [],
   "source": [
    "# Write output\n",
    "data.to_csv(\"europe_normed.csv\")"
   ]
  },
  {
   "cell_type": "markdown",
   "id": "a4934d1e-2272-4dd9-ad48-0eae8b8bce72",
   "metadata": {},
   "source": [
    "# Looping over data sets"
   ]
  },
  {
   "cell_type": "code",
   "execution_count": null,
   "id": "c25eba83-4dc2-480f-b6b6-fc707d1ee429",
   "metadata": {},
   "outputs": [],
   "source": [
    "# Impport the data from files in a list\n",
    "\n",
    "file_list = [\"gapminder_gdp_africa.csv\", \"gapminder_gdp_asia.csv\"]\n",
    "\n",
    "for filename in file_list:\n",
    "    data = pd.read_csv(filename, index_col = \"country\")\n",
    "    print(filename)\n",
    "    print(data.head(1))\n",
    "    "
   ]
  },
  {
   "cell_type": "code",
   "execution_count": null,
   "id": "da45e538-4003-4d65-af44-02d7613eb2c4",
   "metadata": {},
   "outputs": [],
   "source": [
    "# Automatically get a list of files\n",
    "\n",
    "import glob "
   ]
  },
  {
   "cell_type": "code",
   "execution_count": null,
   "id": "dddc81ae-9a8c-48f1-9aff-7ced32c49bde",
   "metadata": {},
   "outputs": [],
   "source": [
    "# Get all the CSV files\n",
    "glob.glob(\"*.csv\")"
   ]
  },
  {
   "cell_type": "code",
   "execution_count": null,
   "id": "a632f7ec-4171-4fc0-bce2-dd314356b2cc",
   "metadata": {},
   "outputs": [],
   "source": [
    "# Get all the CSV or TSV files\n",
    "\n",
    "glob.glob(\"*.?sv\")"
   ]
  },
  {
   "cell_type": "code",
   "execution_count": null,
   "id": "921f3721-60ab-4df7-b19a-d3a3b36c5c5e",
   "metadata": {},
   "outputs": [],
   "source": [
    "# Get continent-level data and aggregate into 1 data frame\n",
    "data_frames = []\n",
    "\n",
    "for filename in glob.glob(\"gapminder_gdp_*.csv\"):\n",
    "    print(filename)\n",
    "    data = pd.read_csv(filename, index_col = \"country\")\n",
    "    data_frames.append(data)\n",
    "\n",
    "# Concatenate data frames\n",
    "all_data = pd.concat(data_frames)\n",
    "    "
   ]
  },
  {
   "cell_type": "code",
   "execution_count": null,
   "id": "271cc72f-823a-46db-82c2-658e8308f7de",
   "metadata": {},
   "outputs": [],
   "source": [
    "# Inspect our results\n",
    "print(all_data.shape)\n",
    "print(all_data.index)\n"
   ]
  },
  {
   "cell_type": "markdown",
   "id": "af9b31fb-5783-442b-9184-58c155a7fa4a",
   "metadata": {
    "editable": true,
    "slideshow": {
     "slide_type": ""
    },
    "tags": []
   },
   "source": [
    "# Conditionals"
   ]
  },
  {
   "cell_type": "code",
   "execution_count": null,
   "id": "f596a8f0-a5da-423e-88c8-f456c5b4f658",
   "metadata": {},
   "outputs": [],
   "source": [
    "# Does a file end in \"all.csv\"?\n",
    "for filename in glob.glob(\"gapminder*.csv\"):\n",
    "    print(\"Current file:\", filename)\n",
    "    print(filename.endswith(\"all.csv\"))"
   ]
  },
  {
   "cell_type": "code",
   "execution_count": null,
   "id": "f469873e-147d-42dd-978e-16587629ec2b",
   "metadata": {},
   "outputs": [],
   "source": [
    "# Get the truth value of a statement\n",
    "\n",
    "mass = 3\n",
    "\n",
    "print(mass == 3)\n",
    "print(mass > 5)\n",
    "print(mass < 4)"
   ]
  },
  {
   "cell_type": "code",
   "execution_count": null,
   "id": "22047d54-dd96-40dd-a670-05c5eb026439",
   "metadata": {},
   "outputs": [],
   "source": [
    "# Test for membership in a collection\n",
    "primes = [2, 3, 5]\n",
    "\n",
    "print(2 in primes)\n",
    "print(7 in primes)"
   ]
  },
  {
   "cell_type": "code",
   "execution_count": null,
   "id": "ab7bd627-8fcf-450a-aa63-91d21525c836",
   "metadata": {},
   "outputs": [],
   "source": [
    "# Testing for missing values\n",
    "# Which values are missing?\n",
    "df.isna()"
   ]
  },
  {
   "cell_type": "code",
   "execution_count": null,
   "id": "4a0712e6-b6ff-445c-84fe-ccd0733360f0",
   "metadata": {},
   "outputs": [],
   "source": [
    "# Are any values missing\n",
    "df.isna().any().any()"
   ]
  },
  {
   "cell_type": "code",
   "execution_count": null,
   "id": "986d5092-37df-4828-be7b-957cae95b255",
   "metadata": {},
   "outputs": [],
   "source": [
    "# Make choices with if - then statement\n",
    "mass = 2.0\n",
    "\n",
    "if mass > 3.0:\n",
    "    print(mass, \"is large\")"
   ]
  },
  {
   "cell_type": "code",
   "execution_count": null,
   "id": "9e1e77a8-cfb7-4803-a654-012267a8b66d",
   "metadata": {},
   "outputs": [],
   "source": [
    "# Test for files ending in \"all.csv\"\n",
    "\n",
    "data_frames = []\n",
    "\n",
    "for filename in glob.glob(\"gapminder*.csv\"):\n",
    "    print(filename)\n",
    "    \n",
    "    if not filename.endswith(\"all.csv\"):\n",
    "        print(\"Passes test:\", filename)\n",
    "        data = pd.read_csv(filename, index_col = \"country\")\n",
    "        data_frames.append(data)\n",
    "\n",
    "all_data = pd.concat(data_frames)\n",
    "print(all_data.shape)\n"
   ]
  },
  {
   "cell_type": "code",
   "execution_count": null,
   "id": "dbc87c84-e549-4055-8b24-8010974db650",
   "metadata": {},
   "outputs": [],
   "source": [
    "# Add and else condition\n",
    "mass = 3.5\n",
    "\n",
    "if mass > 3.0:\n",
    "    print(mass,\"is large\")\n",
    "\n",
    "else:\n",
    "    print(mass, \"is small\")"
   ]
  },
  {
   "cell_type": "code",
   "execution_count": null,
   "id": "42acf27d-fb7a-4f0c-be98-bb112e7c29d2",
   "metadata": {},
   "outputs": [],
   "source": [
    "data_frames = []\n",
    "\n",
    "for filename in glob.glob(\"gapminder*.csv\"):\n",
    "    if filename.endswith(\"all.csv\"):\n",
    "        print(\"I don't want any of that\")\n",
    "    \n",
    "    else:\n",
    "        print(\"Passes test:\", filename)\n",
    "        data = pd.read_csv(filename, index_col = \"country\")\n",
    "        data_frames.append(data)\n",
    "\n",
    "all_data = pd.concat(data_frames)\n",
    "print(all_data.shape)"
   ]
  },
  {
   "cell_type": "markdown",
   "id": "59e9a4a8-ce81-4b6b-ad7a-4f10fbd65ff8",
   "metadata": {},
   "source": [
    "## Challenge 1\n",
    "1. Iterate through all the csv files in the directory\n",
    "2. Print the name and length (number of rows) of any file less than 30 rows long\n"
   ]
  },
  {
   "cell_type": "markdown",
   "id": "e60da414-acc4-4063-8c6b-85264bd3c0aa",
   "metadata": {},
   "source": [
    "## Challenge 2\n",
    "1. Iterate through all the csv files in the directory\n",
    "2. Print any file name that includes \"europe\", then print column names for that file."
   ]
  },
  {
   "cell_type": "code",
   "execution_count": null,
   "id": "4fa74922-7b30-4df7-a817-4661677c6445",
   "metadata": {},
   "outputs": [],
   "source": [
    "# Challenge 1\n",
    "\n",
    "for filename in glob.glob(\"*.?sv\"): # all csv files in directory\n",
    "    data = pd.read_csv(filename)\n",
    "    \n",
    "    if data.shape[0] < 30:\n",
    "        print(\"Name:\", filename, data.shape[0])\n",
    "        "
   ]
  },
  {
   "cell_type": "code",
   "execution_count": null,
   "id": "c13eb338-6d7c-4e99-8fea-739bb8f3b4c5",
   "metadata": {},
   "outputs": [],
   "source": [
    "# Challenge 2\n",
    "\n",
    "for filename in glob.glob(\"*.?sv\"): # all csv files in directory\n",
    "    data = pd.read_csv(filename)\n",
    "    \n",
    "    if \"europe\" in filename:\n",
    "        print(\"Name:\", filename)\n",
    "        pd.read_csv(filename)\n",
    "        print(data.columns)\n"
   ]
  },
  {
   "cell_type": "code",
   "execution_count": null,
   "id": "cc5ae338-7fdb-41af-ac75-7746b14f6059",
   "metadata": {},
   "outputs": [],
   "source": [
    "# You can specify additional tests with elif\n",
    "mass = 3.5\n",
    "\n",
    "if mass > 9.0:\n",
    "    print(mass, \"is huge\")\n",
    "\n",
    "elif mass > 3.0:\n",
    "    print(mass, \"is large\")\n",
    "\n",
    "else:\n",
    "    print(mass, \"is small\")"
   ]
  },
  {
   "cell_type": "code",
   "execution_count": null,
   "id": "37a8dd88-50c9-4f8f-be75-1b5ef605b655",
   "metadata": {},
   "outputs": [],
   "source": [
    "# You can do more complicated tests\n",
    "\n",
    "mass = [1, 2, 3, 4, 5]\n",
    "velocity = [5, 4, 3, 2, 5]\n",
    "\n",
    "# Get each pair of measurments\n",
    "for m, v in zip(mass, velocity):\n",
    "    if m <= 3 and v <= 3:\n",
    "        print(\"Small and slow\")\n",
    "    elif m <= 3 and v > 3:\n",
    "        print(\"Small and fast\")\n",
    "    elif m > 3 and v <= 3:\n",
    "        print(\"Large and slow\")\n",
    "    else:\n",
    "        print(\"Check data\")"
   ]
  },
  {
   "cell_type": "markdown",
   "id": "235ac910-0361-4bd2-bb2d-8b789f9a161e",
   "metadata": {},
   "source": [
    "# Functions\n"
   ]
  },
  {
   "cell_type": "code",
   "execution_count": null,
   "id": "697b897b-0b7f-4f9f-b8a9-5ed90060cd36",
   "metadata": {},
   "outputs": [],
   "source": [
    "def print_greeting():\n",
    "    print(\"Hello!\")\n"
   ]
  },
  {
   "cell_type": "code",
   "execution_count": null,
   "id": "c9219b17-ccd8-4ac4-92c9-d9d90ffe3367",
   "metadata": {},
   "outputs": [],
   "source": [
    "print_greeting()"
   ]
  },
  {
   "cell_type": "code",
   "execution_count": null,
   "id": "534f9fe8-21f9-4cb8-9997-21c1782eeb5e",
   "metadata": {},
   "outputs": [],
   "source": [
    "# Functions take arguments\n",
    "\n",
    "def print_date(year, month, day):\n",
    "    joined_date = \"/\".join([str(year), str(month), str(day)])\n",
    "    print(joined_date)"
   ]
  },
  {
   "cell_type": "code",
   "execution_count": null,
   "id": "955b5e5b-74c3-494c-a3f5-b99862ab4d77",
   "metadata": {},
   "outputs": [],
   "source": [
    "print_date(1872, 3, 9)"
   ]
  },
  {
   "cell_type": "code",
   "execution_count": null,
   "id": "dd0bdda8-cf67-4b08-ae87-898a017e8d7c",
   "metadata": {},
   "outputs": [],
   "source": [
    "# Test your data inside your function\n",
    "\n",
    "def average(values):\n",
    "    \"\"\"Return average of values, or None if no values are supplied\"\"\"\n",
    "\n",
    "    if len(values) == 0:\n",
    "        return None\n",
    "    else:\n",
    "        return sum(values) / len(values)"
   ]
  },
  {
   "cell_type": "code",
   "execution_count": null,
   "id": "d1c65336-0b2a-4cda-82c5-d14775ecb13f",
   "metadata": {},
   "outputs": [],
   "source": [
    "a1 = average([1, 2, 3])\n",
    "print(a1)"
   ]
  },
  {
   "cell_type": "code",
   "execution_count": null,
   "id": "686e7ac3-129b-499f-b3a9-621ff552f07b",
   "metadata": {},
   "outputs": [],
   "source": [
    "a2 = average([])\n",
    "print(a2)"
   ]
  },
  {
   "cell_type": "code",
   "execution_count": null,
   "id": "32d023ae-196c-4a22-862c-b183f3d71c27",
   "metadata": {},
   "outputs": [],
   "source": [
    "a3 = average(3)\n",
    "print(a3)"
   ]
  },
  {
   "cell_type": "markdown",
   "id": "0b2a3d52-106f-4dc2-a825-1b37146b5380",
   "metadata": {},
   "source": [
    "## Challenge \n",
    "\n",
    "Write a function that encapsulates the z-score calculation. Your fucntion should do the following:\n",
    "\n",
    "1. Read the csv file into a data frame\n",
    "2. Calculate the z-score for each item\n",
    "3. Calculate the mean z-score for each country\n",
    "4. Append the mean z-score as a new column\n",
    "5. Return the data frame"
   ]
  },
  {
   "cell_type": "code",
   "execution_count": null,
   "id": "cbdc4098-28e8-4400-9184-e11c4a1c0021",
   "metadata": {},
   "outputs": [],
   "source": [
    "def norm_data(filename, index_col = None):\n",
    "    \"\"\" Add a Z score to a data frame\"\"\"\n",
    "    \n",
    "    df = pd.read_csv(filename, index_col = index_col)    # import data frame\n",
    "\n",
    "    # Drop continent if necessary. This returns a new data frame\n",
    "    if \"continent\" in df.columns:\n",
    "        df = df.drop(\"continent\", axis = 1)\n",
    "    \n",
    "    z = (df - df.values.mean())/df.values.std()          # calculate individual Z scores\n",
    "    \n",
    "    mean_z = z.mean(axis = 1)                            # mean Z score for each country\n",
    "\n",
    "    df[\"mean_z\"] = mean_z                                # add new column to data \n",
    "\n",
    "    return df\n",
    "    "
   ]
  },
  {
   "cell_type": "code",
   "execution_count": null,
   "id": "1a1d0a79-a9cb-4503-bbce-d633169af5b4",
   "metadata": {},
   "outputs": [],
   "source": [
    "norm_data(\"gapminder_gdp_americas.csv\", index_col = \"country\")"
   ]
  },
  {
   "cell_type": "markdown",
   "id": "7a1f7990-fbea-4abe-830d-712b00249671",
   "metadata": {},
   "source": [
    "## Putting it all together"
   ]
  },
  {
   "cell_type": "code",
   "execution_count": null,
   "id": "ee22de86-81a1-4460-8bff-d6f017918134",
   "metadata": {},
   "outputs": [],
   "source": [
    "# Get all the files we care about and get total z scores by continent\n",
    "\n",
    "data_frames = []\n",
    "\n",
    "for filename in glob.glob(\"gapminder*.csv\"):\n",
    "    if not filename.endswith(\"all.csv\"):\n",
    "        df = norm_data(filename, index_col = \"country\")\n",
    "        data_frames.append(df)\n",
    "\n",
    "all_data = pd.concat(data_frames)\n",
    "print(all_data.shape)\n",
    "print(all_data.columns)"
   ]
  },
  {
   "cell_type": "code",
   "execution_count": null,
   "id": "bfa0e8c1-7ee1-41d4-a0b2-5139f1065aea",
   "metadata": {},
   "outputs": [],
   "source": []
  }
 ],
 "metadata": {
  "kernelspec": {
   "display_name": "Python 3 (ipykernel)",
   "language": "python",
   "name": "python3"
  },
  "language_info": {
   "codemirror_mode": {
    "name": "ipython",
    "version": 3
   },
   "file_extension": ".py",
   "mimetype": "text/x-python",
   "name": "python",
   "nbconvert_exporter": "python",
   "pygments_lexer": "ipython3",
   "version": "3.12.4"
  }
 },
 "nbformat": 4,
 "nbformat_minor": 5
}
