{
 "cells": [
  {
   "cell_type": "code",
   "execution_count": null,
   "id": "f5eabace-b2c6-4077-9545-86b3fe3c4024",
   "metadata": {},
   "outputs": [],
   "source": [
    "3+7"
   ]
  },
  {
   "cell_type": "code",
   "execution_count": null,
   "id": "c61fbb74-d630-4c39-b230-6ad0427f023c",
   "metadata": {},
   "outputs": [],
   "source": [
    "print(\"hello world\")"
   ]
  },
  {
   "cell_type": "code",
   "execution_count": null,
   "id": "7988df26-2c7a-43ef-8f60-728558d57cf2",
   "metadata": {},
   "outputs": [],
   "source": [
    "name = \"Milka\""
   ]
  },
  {
   "cell_type": "code",
   "execution_count": null,
   "id": "7994f0bf-457a-4159-a6f3-eaa713e23fb3",
   "metadata": {},
   "outputs": [],
   "source": [
    "age = 42"
   ]
  },
  {
   "cell_type": "code",
   "execution_count": null,
   "id": "024f815a-3939-49ee-8606-fa4cd13f9188",
   "metadata": {},
   "outputs": [],
   "source": [
    "print(age)"
   ]
  },
  {
   "cell_type": "code",
   "execution_count": null,
   "id": "f508ad94-5375-40f4-ae1a-e2d677deca6a",
   "metadata": {},
   "outputs": [],
   "source": [
    "# This is a comment and it will not run"
   ]
  },
  {
   "cell_type": "code",
   "execution_count": null,
   "id": "bc8dfd94-0f93-4633-bee0-24b9c3a6f65b",
   "metadata": {},
   "outputs": [],
   "source": [
    "name # You can also echo values without using print in this notebook"
   ]
  },
  {
   "cell_type": "markdown",
   "id": "792ff1d2-81d7-4aa6-97a6-a7ba09aa8dc9",
   "metadata": {},
   "source": [
    "# Variables and Values"
   ]
  },
  {
   "cell_type": "code",
   "execution_count": null,
   "id": "53b2a077-c19d-4a42-a000-dcd5093711c6",
   "metadata": {},
   "outputs": [],
   "source": [
    "# Variables can be used in calculations\n",
    "print(age)\n",
    "age = age + 3\n",
    "print(age)"
   ]
  },
  {
   "cell_type": "code",
   "execution_count": null,
   "id": "2d678486-e280-4212-8a49-31461d47ce1b",
   "metadata": {},
   "outputs": [],
   "source": [
    "# Order of operation matters!\n",
    "first = 1\n",
    "second = 1 * 5\n",
    "first = 2\n",
    "\n",
    "print(first)\n",
    "print(second)"
   ]
  },
  {
   "cell_type": "code",
   "execution_count": null,
   "id": "4e63ceaf-1477-4744-835a-daef93925634",
   "metadata": {},
   "outputs": [],
   "source": [
    "# Values have types. Types affect what you can do with them.\n",
    "print(5-3)\n",
    "print(\"hello\" - \"h\")\n"
   ]
  },
  {
   "cell_type": "code",
   "execution_count": null,
   "id": "9ccf23c7-0f41-457d-8113-e7aa3e2051ee",
   "metadata": {},
   "outputs": [],
   "source": [
    "print(len(\"Hello\"))\n",
    "#print(len(6))"
   ]
  },
  {
   "cell_type": "markdown",
   "id": "1b5de40e-42df-41b6-ace6-ac052f4835f1",
   "metadata": {},
   "source": [
    "## Challenge\n",
    "Explain what each operator does\n",
    "\n",
    "print(5 // 3)    # round division\n",
    "print(5 / 3)     # exact division\n",
    "print(5 % 3)     # remainder"
   ]
  },
  {
   "cell_type": "code",
   "execution_count": null,
   "id": "eebdb165-f5dc-44ad-8a8c-9808b60164a3",
   "metadata": {},
   "outputs": [],
   "source": [
    "print(5 // 3)\n",
    "print(5 / 3)\n",
    "print(5 % 3)"
   ]
  },
  {
   "cell_type": "markdown",
   "id": "a4867423-d063-46b2-b972-27f2fbb15733",
   "metadata": {},
   "source": [
    "## Getting Help"
   ]
  },
  {
   "cell_type": "code",
   "execution_count": null,
   "id": "3f19381d-657e-4176-b374-a454035ee6a2",
   "metadata": {},
   "outputs": [],
   "source": [
    "# All functions return a new value\n",
    "rounded_pi = round(3.14159,2)\n",
    "print(rounded_pi)\n"
   ]
  },
  {
   "cell_type": "markdown",
   "id": "c31e8319-e2a7-40c1-ab3a-47e259406c6a",
   "metadata": {},
   "source": [
    "## Challenge\n",
    "\n",
    "In what order tdo the operations happen?\n",
    "\n",
    "radiance = 1.0 \n",
    "\n",
    "radiance = max(2.1,2.0 + min(radiance, 1.1*radiance - 0.5))"
   ]
  },
  {
   "cell_type": "code",
   "execution_count": null,
   "id": "6451a5ea-55b9-4544-9247-c89a911eab5d",
   "metadata": {},
   "outputs": [],
   "source": [
    "radiance = 1.0\n",
    "\n",
    "radiance = max(2.1,2.0 + min(radiance, 1.1*radiance - 0.5))"
   ]
  },
  {
   "cell_type": "code",
   "execution_count": null,
   "id": "d001c00e-dd1a-437d-ba7b-527b21590dd9",
   "metadata": {},
   "outputs": [],
   "source": [
    "radiance"
   ]
  },
  {
   "cell_type": "code",
   "execution_count": null,
   "id": "e2fc5764-9b06-44bd-ae61-38ab334bc76f",
   "metadata": {},
   "outputs": [],
   "source": [
    "# Break down these operations\n",
    "radiance = 1.0\n",
    "min_arg_2 = 1.1 * radiance - 0.5\n",
    "print(\"Min arg 2:\", min_arg_2)\n",
    "min_result = min(radiance, min_arg_2)\n",
    "print(\"Min result:\", min_result)\n",
    "\n",
    "radiance = max(2.1, 2.0 + min_result)\n",
    "print(radiance)"
   ]
  },
  {
   "cell_type": "markdown",
   "id": "14d3618c-7250-4bdb-831b-05288bab1010",
   "metadata": {},
   "source": [
    "## A Brief Interlude with Git"
   ]
  },
  {
   "cell_type": "code",
   "execution_count": null,
   "id": "d45e6b4e-503b-4959-8dbf-976ecb52a662",
   "metadata": {},
   "outputs": [],
   "source": []
  }
 ],
 "metadata": {
  "kernelspec": {
   "display_name": "Python 3 (ipykernel)",
   "language": "python",
   "name": "python3"
  },
  "language_info": {
   "codemirror_mode": {
    "name": "ipython",
    "version": 3
   },
   "file_extension": ".py",
   "mimetype": "text/x-python",
   "name": "python",
   "nbconvert_exporter": "python",
   "pygments_lexer": "ipython3",
   "version": "3.12.4"
  }
 },
 "nbformat": 4,
 "nbformat_minor": 5
}
